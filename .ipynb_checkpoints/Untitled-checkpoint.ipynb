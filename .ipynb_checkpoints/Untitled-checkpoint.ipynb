{
 "cells": [
  {
   "cell_type": "code",
   "execution_count": 7,
   "id": "5c59ef04",
   "metadata": {},
   "outputs": [
    {
     "name": "stdout",
     "output_type": "stream",
     "text": [
      "이름을 입력하세요 >>동호\n",
      "성을 입력하세요 >>한\n",
      "hello 한 동호\n"
     ]
    }
   ],
   "source": [
    "firstname = input(\"이름을 입력하세요 >>\")\n",
    "secondname = input(\"성을 입력하세요 >>\")\n",
    "print(\"hello\",secondname,firstname)"
   ]
  },
  {
   "cell_type": "code",
   "execution_count": 10,
   "id": "c3dd0738",
   "metadata": {},
   "outputs": [
    {
     "name": "stdout",
     "output_type": "stream",
     "text": [
      "what do you call a bear with no teeth? \n",
      " A gummy bear!\n"
     ]
    }
   ],
   "source": [
    "print(\"what do you call a bear with no teeth? \\n A gummy bear!\")"
   ]
  },
  {
   "cell_type": "code",
   "execution_count": null,
   "id": "c029e7d3",
   "metadata": {},
   "outputs": [],
   "source": []
  }
 ],
 "metadata": {
  "kernelspec": {
   "display_name": "Python 3 (ipykernel)",
   "language": "python",
   "name": "python3"
  },
  "language_info": {
   "codemirror_mode": {
    "name": "ipython",
    "version": 3
   },
   "file_extension": ".py",
   "mimetype": "text/x-python",
   "name": "python",
   "nbconvert_exporter": "python",
   "pygments_lexer": "ipython3",
   "version": "3.11.4"
  }
 },
 "nbformat": 4,
 "nbformat_minor": 5
}
